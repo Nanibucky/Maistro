{
  "cells": [
    {
      "cell_type": "code",
      "execution_count": 1,
      "metadata": {
        "colab": {
          "base_uri": "https://localhost:8080/"
        },
        "id": "yFpHRK0eGsc5",
        "outputId": "6e9043aa-2bcc-4173-e624-10ec5508346e"
      },
      "outputs": [
        {
          "output_type": "stream",
          "name": "stdout",
          "text": [
            "Requirement already satisfied: langchain_openai in /usr/local/lib/python3.11/dist-packages (0.3.7)\n",
            "Requirement already satisfied: langgraph in /usr/local/lib/python3.11/dist-packages (0.3.5)\n",
            "Requirement already satisfied: trustcall in /usr/local/lib/python3.11/dist-packages (0.0.38)\n",
            "Requirement already satisfied: langchain_core in /usr/local/lib/python3.11/dist-packages (0.3.41)\n",
            "Requirement already satisfied: openai<2.0.0,>=1.58.1 in /usr/local/lib/python3.11/dist-packages (from langchain_openai) (1.61.1)\n",
            "Requirement already satisfied: tiktoken<1,>=0.7 in /usr/local/lib/python3.11/dist-packages (from langchain_openai) (0.9.0)\n",
            "Requirement already satisfied: langgraph-checkpoint<3.0.0,>=2.0.10 in /usr/local/lib/python3.11/dist-packages (from langgraph) (2.0.17)\n",
            "Requirement already satisfied: langgraph-prebuilt<0.2,>=0.1.1 in /usr/local/lib/python3.11/dist-packages (from langgraph) (0.1.2)\n",
            "Requirement already satisfied: langgraph-sdk<0.2.0,>=0.1.42 in /usr/local/lib/python3.11/dist-packages (from langgraph) (0.1.55)\n",
            "Requirement already satisfied: dydantic<1.0.0,>=0.0.8 in /usr/local/lib/python3.11/dist-packages (from trustcall) (0.0.8)\n",
            "Requirement already satisfied: jsonpatch<2.0,>=1.33 in /usr/local/lib/python3.11/dist-packages (from trustcall) (1.33)\n",
            "Requirement already satisfied: langsmith<0.4,>=0.1.125 in /usr/local/lib/python3.11/dist-packages (from langchain_core) (0.3.11)\n",
            "Requirement already satisfied: tenacity!=8.4.0,<10.0.0,>=8.1.0 in /usr/local/lib/python3.11/dist-packages (from langchain_core) (9.0.0)\n",
            "Requirement already satisfied: PyYAML>=5.3 in /usr/local/lib/python3.11/dist-packages (from langchain_core) (6.0.2)\n",
            "Requirement already satisfied: packaging<25,>=23.2 in /usr/local/lib/python3.11/dist-packages (from langchain_core) (24.2)\n",
            "Requirement already satisfied: typing-extensions>=4.7 in /usr/local/lib/python3.11/dist-packages (from langchain_core) (4.12.2)\n",
            "Requirement already satisfied: pydantic<3.0.0,>=2.5.2 in /usr/local/lib/python3.11/dist-packages (from langchain_core) (2.10.6)\n",
            "Requirement already satisfied: jsonpointer>=1.9 in /usr/local/lib/python3.11/dist-packages (from jsonpatch<2.0,>=1.33->trustcall) (3.0.0)\n",
            "Requirement already satisfied: msgpack<2.0.0,>=1.1.0 in /usr/local/lib/python3.11/dist-packages (from langgraph-checkpoint<3.0.0,>=2.0.10->langgraph) (1.1.0)\n",
            "Requirement already satisfied: httpx>=0.25.2 in /usr/local/lib/python3.11/dist-packages (from langgraph-sdk<0.2.0,>=0.1.42->langgraph) (0.28.1)\n",
            "Requirement already satisfied: orjson>=3.10.1 in /usr/local/lib/python3.11/dist-packages (from langgraph-sdk<0.2.0,>=0.1.42->langgraph) (3.10.15)\n",
            "Requirement already satisfied: requests<3,>=2 in /usr/local/lib/python3.11/dist-packages (from langsmith<0.4,>=0.1.125->langchain_core) (2.32.3)\n",
            "Requirement already satisfied: requests-toolbelt<2.0.0,>=1.0.0 in /usr/local/lib/python3.11/dist-packages (from langsmith<0.4,>=0.1.125->langchain_core) (1.0.0)\n",
            "Requirement already satisfied: zstandard<0.24.0,>=0.23.0 in /usr/local/lib/python3.11/dist-packages (from langsmith<0.4,>=0.1.125->langchain_core) (0.23.0)\n",
            "Requirement already satisfied: anyio<5,>=3.5.0 in /usr/local/lib/python3.11/dist-packages (from openai<2.0.0,>=1.58.1->langchain_openai) (3.7.1)\n",
            "Requirement already satisfied: distro<2,>=1.7.0 in /usr/local/lib/python3.11/dist-packages (from openai<2.0.0,>=1.58.1->langchain_openai) (1.9.0)\n",
            "Requirement already satisfied: jiter<1,>=0.4.0 in /usr/local/lib/python3.11/dist-packages (from openai<2.0.0,>=1.58.1->langchain_openai) (0.8.2)\n",
            "Requirement already satisfied: sniffio in /usr/local/lib/python3.11/dist-packages (from openai<2.0.0,>=1.58.1->langchain_openai) (1.3.1)\n",
            "Requirement already satisfied: tqdm>4 in /usr/local/lib/python3.11/dist-packages (from openai<2.0.0,>=1.58.1->langchain_openai) (4.67.1)\n",
            "Requirement already satisfied: annotated-types>=0.6.0 in /usr/local/lib/python3.11/dist-packages (from pydantic<3.0.0,>=2.5.2->langchain_core) (0.7.0)\n",
            "Requirement already satisfied: pydantic-core==2.27.2 in /usr/local/lib/python3.11/dist-packages (from pydantic<3.0.0,>=2.5.2->langchain_core) (2.27.2)\n",
            "Requirement already satisfied: regex>=2022.1.18 in /usr/local/lib/python3.11/dist-packages (from tiktoken<1,>=0.7->langchain_openai) (2024.11.6)\n",
            "Requirement already satisfied: idna>=2.8 in /usr/local/lib/python3.11/dist-packages (from anyio<5,>=3.5.0->openai<2.0.0,>=1.58.1->langchain_openai) (3.10)\n",
            "Requirement already satisfied: certifi in /usr/local/lib/python3.11/dist-packages (from httpx>=0.25.2->langgraph-sdk<0.2.0,>=0.1.42->langgraph) (2025.1.31)\n",
            "Requirement already satisfied: httpcore==1.* in /usr/local/lib/python3.11/dist-packages (from httpx>=0.25.2->langgraph-sdk<0.2.0,>=0.1.42->langgraph) (1.0.7)\n",
            "Requirement already satisfied: h11<0.15,>=0.13 in /usr/local/lib/python3.11/dist-packages (from httpcore==1.*->httpx>=0.25.2->langgraph-sdk<0.2.0,>=0.1.42->langgraph) (0.14.0)\n",
            "Requirement already satisfied: charset-normalizer<4,>=2 in /usr/local/lib/python3.11/dist-packages (from requests<3,>=2->langsmith<0.4,>=0.1.125->langchain_core) (3.4.1)\n",
            "Requirement already satisfied: urllib3<3,>=1.21.1 in /usr/local/lib/python3.11/dist-packages (from requests<3,>=2->langsmith<0.4,>=0.1.125->langchain_core) (2.3.0)\n"
          ]
        }
      ],
      "source": [
        "%pip install -U langchain_openai langgraph trustcall langchain_core"
      ]
    },
    {
      "cell_type": "code",
      "execution_count": 2,
      "metadata": {
        "colab": {
          "base_uri": "https://localhost:8080/"
        },
        "id": "jHQspJv_Gsc5",
        "outputId": "fb08fd81-9446-4e8f-8ee6-981beaff0897"
      },
      "outputs": [
        {
          "name": "stdout",
          "output_type": "stream",
          "text": [
            "LANGCHAIN_API_KEY: ··········\n"
          ]
        }
      ],
      "source": [
        "import os, getpass\n",
        "\n",
        "def _set_env(var: str):\n",
        "\n",
        "    env_value = os.environ.get(var)\n",
        "    if not env_value:\n",
        "        # If not set, prompt the user for input\n",
        "        env_value = getpass.getpass(f\"{var}: \")\n",
        "\n",
        "    # Set the environment variable for the current process\n",
        "    os.environ[var] = env_value\n",
        "\n",
        "_set_env(\"LANGCHAIN_API_KEY\")\n",
        "os.environ[\"LANGCHAIN_TRACING_V2\"] = \"true\"\n",
        "os.environ[\"LANGCHAIN_PROJECT\"] = \"ToDo_Agents\""
      ]
    },
    {
      "cell_type": "code",
      "execution_count": 3,
      "metadata": {
        "colab": {
          "base_uri": "https://localhost:8080/"
        },
        "id": "b-eEMzkPGsc6",
        "outputId": "5c3b188e-597d-45ff-9612-9ce46b0568f6"
      },
      "outputs": [
        {
          "name": "stdout",
          "output_type": "stream",
          "text": [
            "OPENAI_API_KEY: ··········\n"
          ]
        }
      ],
      "source": [
        "_set_env(\"OPENAI_API_KEY\")"
      ]
    },
    {
      "cell_type": "code",
      "execution_count": 4,
      "metadata": {
        "id": "mD2lb0wdGsc6"
      },
      "outputs": [],
      "source": [
        "from pydantic import BaseModel, Field\n",
        "\n",
        "class Memory(BaseModel):\n",
        "    content: str = Field(description=\"The main content of the memory. For example: User expressed interest in learning about French.\")\n",
        "\n",
        "class MemoryCollection(BaseModel):\n",
        "    memories: list[Memory] = Field(description=\"A list of memories about the user.\")"
      ]
    },
    {
      "cell_type": "code",
      "execution_count": 5,
      "metadata": {
        "id": "gHh3cEVHGsc6"
      },
      "outputs": [],
      "source": [
        "from trustcall import create_extractor\n",
        "from langchain_openai import ChatOpenAI\n",
        "\n",
        "# Inspect the tool calls made by Trustcall\n",
        "class Spy:\n",
        "    def __init__(self):\n",
        "        self.called_tools = []\n",
        "\n",
        "    def __call__(self, run):\n",
        "\n",
        "        q = [run]\n",
        "        while q:\n",
        "            r = q.pop()\n",
        "            if r.child_runs:\n",
        "                q.extend(r.child_runs)\n",
        "            if r.run_type == \"chat_model\":\n",
        "                self.called_tools.append(\n",
        "                    r.outputs[\"generations\"][0][0][\"message\"][\"kwargs\"][\"tool_calls\"]\n",
        "                )\n",
        "\n",
        "\n",
        "spy = Spy()\n",
        "\n",
        "model = ChatOpenAI(model=\"gpt-4o\", temperature=0)\n",
        "\n",
        "\n",
        "trustcall_extractor = create_extractor(\n",
        "    model,\n",
        "    tools=[Memory],\n",
        "    tool_choice=\"Memory\",\n",
        "    enable_inserts=True,\n",
        ")\n",
        "\n",
        "\n",
        "trustcall_extractor_see_all_tool_calls = trustcall_extractor.with_listeners(on_end=spy)"
      ]
    },
    {
      "cell_type": "code",
      "execution_count": 6,
      "metadata": {
        "id": "RMsxEG3wGsc6"
      },
      "outputs": [],
      "source": [
        "from langchain_core.messages import HumanMessage, SystemMessage, AIMessage\n",
        "\n",
        "instruction = \"\"\"Extract memories from the following conversation:\"\"\"\n",
        "\n",
        "\n",
        "conversation = [HumanMessage(content=\"Hi, I'm Tharun.\"),\n",
        "                AIMessage(content=\"Nice to meet you, Tharun.\"),\n",
        "                HumanMessage(content=\"This morning I had a nice bike ride in San Francisco.\")]\n",
        "\n",
        "\n",
        "result = trustcall_extractor.invoke({\"messages\": [SystemMessage(content=instruction)] + conversation})"
      ]
    },
    {
      "cell_type": "code",
      "execution_count": 7,
      "metadata": {
        "colab": {
          "base_uri": "https://localhost:8080/"
        },
        "id": "4HlglOz_Gsc7",
        "outputId": "2d593d91-e14e-4ea1-f0b6-dc5c5822b32b"
      },
      "outputs": [
        {
          "output_type": "stream",
          "name": "stdout",
          "text": [
            "==================================\u001b[1m Ai Message \u001b[0m==================================\n",
            "Tool Calls:\n",
            "  Memory (call_uzfmdS2u4vzu2osPi2CwRNNi)\n",
            " Call ID: call_uzfmdS2u4vzu2osPi2CwRNNi\n",
            "  Args:\n",
            "    content: Tharun had a nice bike ride in San Francisco this morning.\n"
          ]
        }
      ],
      "source": [
        "for m in result[\"messages\"]:\n",
        "    m.pretty_print()"
      ]
    },
    {
      "cell_type": "code",
      "execution_count": 8,
      "metadata": {
        "colab": {
          "base_uri": "https://localhost:8080/"
        },
        "id": "qHgzHHtZGsc7",
        "outputId": "f9c10d0d-0fe6-4265-f0f5-caea3cd640f8"
      },
      "outputs": [
        {
          "output_type": "stream",
          "name": "stdout",
          "text": [
            "content='Tharun had a nice bike ride in San Francisco this morning.'\n"
          ]
        }
      ],
      "source": [
        "for m in result[\"responses\"]:\n",
        "    print(m)"
      ]
    },
    {
      "cell_type": "code",
      "execution_count": 9,
      "metadata": {
        "colab": {
          "base_uri": "https://localhost:8080/"
        },
        "id": "sMTMIHQEGsc7",
        "outputId": "22ac85c6-0cde-4c08-b2e3-ad262696bcca"
      },
      "outputs": [
        {
          "output_type": "stream",
          "name": "stdout",
          "text": [
            "{'id': 'call_uzfmdS2u4vzu2osPi2CwRNNi'}\n"
          ]
        }
      ],
      "source": [
        " for m in result[\"response_metadata\"]:\n",
        "    print(m)"
      ]
    },
    {
      "cell_type": "code",
      "execution_count": 10,
      "metadata": {
        "colab": {
          "base_uri": "https://localhost:8080/"
        },
        "id": "K0hJGuMWGsc7",
        "outputId": "d7e773a3-d92c-4ad2-e0c0-822519156062"
      },
      "outputs": [
        {
          "output_type": "execute_result",
          "data": {
            "text/plain": [
              "[('0',\n",
              "  'Memory',\n",
              "  {'content': 'Tharun had a nice bike ride in San Francisco this morning.'})]"
            ]
          },
          "metadata": {},
          "execution_count": 10
        }
      ],
      "source": [
        "\n",
        "updated_conversation = [AIMessage(content=\"That's great, did you do after?\"),\n",
        "                        HumanMessage(content=\"I went to Tartine and ate a croissant.\"),\n",
        "                        AIMessage(content=\"What else is on your mind?\"),\n",
        "                        HumanMessage(content=\"I was thinking about my Japan, and going back this winter!\"),]\n",
        "\n",
        "\n",
        "system_msg = \"\"\"Update existing memories and create new ones based on the following conversation:\"\"\"\n",
        "\n",
        "tool_name = \"Memory\"\n",
        "existing_memories = [(str(i), tool_name, memory.model_dump()) for i, memory in enumerate(result[\"responses\"])] if result[\"responses\"] else None\n",
        "existing_memories"
      ]
    },
    {
      "cell_type": "code",
      "execution_count": 11,
      "metadata": {
        "id": "b9lJfwkXGsc7"
      },
      "outputs": [],
      "source": [
        "\n",
        "result = trustcall_extractor_see_all_tool_calls.invoke({\"messages\": updated_conversation,\n",
        "                                                        \"existing\": existing_memories})"
      ]
    },
    {
      "cell_type": "code",
      "execution_count": 12,
      "metadata": {
        "colab": {
          "base_uri": "https://localhost:8080/"
        },
        "id": "6AHIJzdPGsc7",
        "outputId": "7c0e5333-e7b3-45f4-a38e-790a150e94c8"
      },
      "outputs": [
        {
          "output_type": "stream",
          "name": "stdout",
          "text": [
            "{'id': 'call_LE3Ow7fRrXeeTzzUEZh7Xg5l', 'json_doc_id': '0'}\n",
            "{'id': 'call_8ztnU7cylCvaYTJRpCEt5C2g'}\n"
          ]
        }
      ],
      "source": [
        "# Metadata contains the tool call\n",
        "for m in result[\"response_metadata\"]:\n",
        "    print(m)"
      ]
    },
    {
      "cell_type": "code",
      "execution_count": 13,
      "metadata": {
        "colab": {
          "base_uri": "https://localhost:8080/"
        },
        "id": "GPanrnimGsc7",
        "outputId": "56602edd-281f-44c2-d8a8-57e29cb831da"
      },
      "outputs": [
        {
          "output_type": "stream",
          "name": "stdout",
          "text": [
            "==================================\u001b[1m Ai Message \u001b[0m==================================\n",
            "Tool Calls:\n",
            "  Memory (call_LE3Ow7fRrXeeTzzUEZh7Xg5l)\n",
            " Call ID: call_LE3Ow7fRrXeeTzzUEZh7Xg5l\n",
            "  Args:\n",
            "    content: Tharun had a nice bike ride in San Francisco this morning. Then, he went to Tartine and ate a croissant. He was also thinking about his trip to Japan and going back this winter.\n",
            "  Memory (call_8ztnU7cylCvaYTJRpCEt5C2g)\n",
            " Call ID: call_8ztnU7cylCvaYTJRpCEt5C2g\n",
            "  Args:\n",
            "    content: Tharun went to Tartine and ate a croissant. He was also thinking about his trip to Japan and going back this winter.\n"
          ]
        }
      ],
      "source": [
        "\n",
        "for m in result[\"messages\"]:\n",
        "    m.pretty_print()"
      ]
    },
    {
      "cell_type": "code",
      "execution_count": 14,
      "metadata": {
        "colab": {
          "base_uri": "https://localhost:8080/"
        },
        "id": "VWJTTa0eGsc7",
        "outputId": "b9c6b301-ea32-49e3-eb57-314b5b475dae"
      },
      "outputs": [
        {
          "output_type": "stream",
          "name": "stdout",
          "text": [
            "content='Tharun had a nice bike ride in San Francisco this morning. Then, he went to Tartine and ate a croissant. He was also thinking about his trip to Japan and going back this winter.'\n",
            "content='Tharun went to Tartine and ate a croissant. He was also thinking about his trip to Japan and going back this winter.'\n"
          ]
        }
      ],
      "source": [
        "for m in result[\"responses\"]:\n",
        "    print(m)"
      ]
    },
    {
      "cell_type": "code",
      "execution_count": 15,
      "metadata": {
        "colab": {
          "base_uri": "https://localhost:8080/"
        },
        "id": "jGXUnlfBGsc8",
        "outputId": "90345795-9f82-465e-f28b-a3910e406802"
      },
      "outputs": [
        {
          "output_type": "execute_result",
          "data": {
            "text/plain": [
              "[[{'name': 'PatchDoc',\n",
              "   'args': {'json_doc_id': '0',\n",
              "    'planned_edits': '1. Replace the existing memory content with the updated memory that includes the new activities: going to Tartine and eating a croissant, and thinking about going back to Japan this winter.',\n",
              "    'patches': [{'op': 'replace',\n",
              "      'path': '/content',\n",
              "      'value': 'Tharun had a nice bike ride in San Francisco this morning. Then, he went to Tartine and ate a croissant. He was also thinking about his trip to Japan and going back this winter.'}]},\n",
              "   'id': 'call_LE3Ow7fRrXeeTzzUEZh7Xg5l',\n",
              "   'type': 'tool_call'},\n",
              "  {'name': 'Memory',\n",
              "   'args': {'content': 'Tharun went to Tartine and ate a croissant. He was also thinking about his trip to Japan and going back this winter.'},\n",
              "   'id': 'call_8ztnU7cylCvaYTJRpCEt5C2g',\n",
              "   'type': 'tool_call'}]]"
            ]
          },
          "metadata": {},
          "execution_count": 15
        }
      ],
      "source": [
        "spy.called_tools"
      ]
    },
    {
      "cell_type": "code",
      "execution_count": 16,
      "metadata": {
        "colab": {
          "base_uri": "https://localhost:8080/"
        },
        "id": "cWIrUkhKGsc8",
        "outputId": "d9538ad4-a91f-4a54-e357-d8af9aa6ea0b"
      },
      "outputs": [
        {
          "output_type": "stream",
          "name": "stdout",
          "text": [
            "Document 0 updated:\n",
            "Plan: 1. Replace the existing memory content with the updated memory that includes the new activities: going to Tartine and eating a croissant, and thinking about going back to Japan this winter.\n",
            "Added content: Tharun had a nice bike ride in San Francisco this morning. Then, he went to Tartine and ate a croissant. He was also thinking about his trip to Japan and going back this winter.\n",
            "\n",
            "New Memory created:\n",
            "Content: {'content': 'Tharun went to Tartine and ate a croissant. He was also thinking about his trip to Japan and going back this winter.'}\n"
          ]
        }
      ],
      "source": [
        "def extract_tool_info(tool_calls, schema_name=\"Memory\"):\n",
        "    \"\"\"Extract information from tool calls for both patches and new memories.\n",
        "\n",
        "    Args:\n",
        "        tool_calls: List of tool calls from the model\n",
        "        schema_name: Name of the schema tool (e.g., \"Memory\", \"ToDo\", \"Profile\")\n",
        "    \"\"\"\n",
        "\n",
        "    # Initialize list of changes\n",
        "    changes = []\n",
        "\n",
        "    for call_group in tool_calls:\n",
        "        for call in call_group:\n",
        "            if call['name'] == 'PatchDoc':\n",
        "                changes.append({\n",
        "                    'type': 'update',\n",
        "                    'doc_id': call['args']['json_doc_id'],\n",
        "                    'planned_edits': call['args']['planned_edits'],\n",
        "                    'value': call['args']['patches'][0]['value']\n",
        "                })\n",
        "            elif call['name'] == schema_name:\n",
        "                changes.append({\n",
        "                    'type': 'new',\n",
        "                    'value': call['args']\n",
        "                })\n",
        "\n",
        "    # Format results as a single string\n",
        "    result_parts = []\n",
        "    for change in changes:\n",
        "        if change['type'] == 'update':\n",
        "            result_parts.append(\n",
        "                f\"Document {change['doc_id']} updated:\\n\"\n",
        "                f\"Plan: {change['planned_edits']}\\n\"\n",
        "                f\"Added content: {change['value']}\"\n",
        "            )\n",
        "        else:\n",
        "            result_parts.append(\n",
        "                f\"New {schema_name} created:\\n\"\n",
        "                f\"Content: {change['value']}\"\n",
        "            )\n",
        "\n",
        "    return \"\\n\\n\".join(result_parts)\n",
        "\n",
        "# Inspect spy.called_tools to see exactly what happened during the extraction\n",
        "schema_name = \"Memory\"\n",
        "changes = extract_tool_info(spy.called_tools, schema_name)\n",
        "print(changes)"
      ]
    },
    {
      "cell_type": "code",
      "execution_count": 17,
      "metadata": {
        "id": "2ty_H7HtGsc8"
      },
      "outputs": [],
      "source": [
        "from typing import TypedDict, Literal\n",
        "\n",
        "# Update memory tool\n",
        "class UpdateMemory(TypedDict):\n",
        "    \"\"\" Decision on what memory type to update \"\"\"\n",
        "    update_type: Literal['user', 'todo', 'instructions']"
      ]
    },
    {
      "cell_type": "code",
      "execution_count": 32,
      "metadata": {
        "colab": {
          "base_uri": "https://localhost:8080/",
          "height": 266
        },
        "id": "MoxZTpC6Gsc8",
        "outputId": "1a9e508f-cd22-4aa0-f6e2-66575cda96f2"
      },
      "outputs": [
        {
          "output_type": "display_data",
          "data": {
            "image/png": "[encoded data removed]",
            "text/plain": [
              "<IPython.core.display.Image object>"
            ]
          },
          "metadata": {}
        }
      ],
      "source": [
        "import uuid\n",
        "from IPython.display import Image, display\n",
        "\n",
        "from datetime import datetime\n",
        "from trustcall import create_extractor\n",
        "from typing import Optional\n",
        "from pydantic import BaseModel, Field\n",
        "\n",
        "from langchain_core.runnables import RunnableConfig\n",
        "from langchain_core.messages import merge_message_runs, HumanMessage, SystemMessage\n",
        "\n",
        "from langgraph.checkpoint.memory import MemorySaver\n",
        "from langgraph.graph import StateGraph, MessagesState, END, START\n",
        "from langgraph.store.base import BaseStore\n",
        "from langgraph.store.memory import InMemoryStore\n",
        "from langchain_core.runnables.graph_mermaid import draw_mermaid_png, MermaidDrawMethod\n",
        "from langchain_openai import ChatOpenAI\n",
        "\n",
        "# Initialize the model\n",
        "model = ChatOpenAI(model=\"gpt-4o\", temperature=0)\n",
        "\n",
        "# User profile schema\n",
        "class Profile(BaseModel):\n",
        "    \"\"\"This is the profile of the user you are chatting with\"\"\"\n",
        "    name: Optional[str] = Field(description=\"The user's name\", default=None)\n",
        "    location: Optional[str] = Field(description=\"The user's location\", default=None)\n",
        "    job: Optional[str] = Field(description=\"The user's job\", default=None)\n",
        "    connections: list[str] = Field(\n",
        "        description=\"Personal connection of the user, such as family members, friends, or coworkers\",\n",
        "        default_factory=list\n",
        "    )\n",
        "    interests: list[str] = Field(\n",
        "        description=\"Interests that the user has\",\n",
        "        default_factory=list\n",
        "    )\n",
        "\n",
        "# ToDo schema\n",
        "class ToDo(BaseModel):\n",
        "    task: str = Field(description=\"The task to be completed.\")\n",
        "    time_to_complete: Optional[int] = Field(description=\"Estimated time to complete the task (minutes).\")\n",
        "    deadline: Optional[datetime] = Field(\n",
        "        description=\"When the task needs to be completed by (if applicable)\",\n",
        "        default=None\n",
        "    )\n",
        "    solutions: list[str] = Field(\n",
        "        description=\"List of specific, actionable solutions (e.g., specific ideas, service providers, or concrete options relevant to completing the task)\",\n",
        "        min_items=1,\n",
        "        default_factory=list\n",
        "    )\n",
        "    status: Literal[\"not started\", \"in progress\", \"done\", \"archived\"] = Field(\n",
        "        description=\"Current status of the task\",\n",
        "        default=\"not started\"\n",
        "    )\n",
        "\n",
        "\n",
        "profile_extractor = create_extractor(\n",
        "    model,\n",
        "    tools=[Profile],\n",
        "    tool_choice=\"Profile\",\n",
        ")\n",
        "\n",
        "\n",
        "MODEL_SYSTEM_MESSAGE = \"\"\"You are a helpful chatbot.\n",
        "\n",
        "You are designed to be a companion to a user, helping them keep track of their ToDo list.\n",
        "\n",
        "You have a long term memory which keeps track of three things:\n",
        "1. The user's profile (general information about them)\n",
        "2. The user's ToDo list\n",
        "3. General instructions for updating the ToDo list\n",
        "\n",
        "Here is the current User Profile (may be empty if no information has been collected yet):\n",
        "<user_profile>\n",
        "{user_profile}\n",
        "</user_profile>\n",
        "\n",
        "Here is the current ToDo List (may be empty if no tasks have been added yet):\n",
        "<todo>\n",
        "{todo}\n",
        "</todo>\n",
        "\n",
        "Here are the current user-specified preferences for updating the ToDo list (may be empty if no preferences have been specified yet):\n",
        "<instructions>\n",
        "{instructions}\n",
        "</instructions>\n",
        "\n",
        "Here are your instructions for reasoning about the user's messages:\n",
        "\n",
        "1. Reason carefully about the user's messages as presented below.\n",
        "\n",
        "2. Decide whether any of the your long-term memory should be updated:\n",
        "- If personal information was provided about the user, update the user's profile by calling UpdateMemory tool with type `user`\n",
        "- If tasks are mentioned, update the ToDo list by calling UpdateMemory tool with type `todo`\n",
        "- If the user has specified preferences for how to update the ToDo list, update the instructions by calling UpdateMemory tool with type `instructions`\n",
        "\n",
        "3. Tell the user that you have updated your memory, if appropriate:\n",
        "- Do not tell the user you have updated the user's profile\n",
        "- Tell the user them when you update the todo list\n",
        "- Do not tell the user that you have updated instructions\n",
        "\n",
        "4. Err on the side of updating the todo list. No need to ask for explicit permission.\n",
        "\n",
        "5. Respond naturally to user user after a tool call was made to save memories, or if no tool call was made.\"\"\"\n",
        "\n",
        "# Trustcall instruction\n",
        "TRUSTCALL_INSTRUCTION = \"\"\"Reflect on following interaction.\n",
        "\n",
        "Use the provided tools to retain any necessary memories about the user.\n",
        "\n",
        "Use parallel tool calling to handle updates and insertions simultaneously.\n",
        "\n",
        "System Time: {time}\"\"\"\n",
        "\n",
        "# Instructions for updating the ToDo list\n",
        "CREATE_INSTRUCTIONS = \"\"\"Reflect on the following interaction.\n",
        "\n",
        "Based on this interaction, update your instructions for how to update ToDo list items.\n",
        "\n",
        "Use any feedback from the user to update how they like to have items added, etc.\n",
        "\n",
        "Your current instructions are:\n",
        "\n",
        "<current_instructions>\n",
        "{current_instructions}\n",
        "</current_instructions>\"\"\"\n",
        "\n",
        "# Node definitions\n",
        "def ToDo_Agents(state: MessagesState, config: RunnableConfig, store: BaseStore):\n",
        "\n",
        "    \"\"\"Load memories from the store and use them to personalize the chatbot's response.\"\"\"\n",
        "\n",
        "    # Get the user ID from the config\n",
        "    user_id = config[\"configurable\"][\"user_id\"]\n",
        "\n",
        "    # Retrieve profile memory from the store\n",
        "    namespace = (\"profile\", user_id)\n",
        "    memories = store.search(namespace)\n",
        "    if memories:\n",
        "        user_profile = memories[0].value\n",
        "    else:\n",
        "        user_profile = None\n",
        "\n",
        "    # Retrieve task memory from the store\n",
        "    namespace = (\"todo\", user_id)\n",
        "    memories = store.search(namespace)\n",
        "    todo = \"\\n\".join(f\"{mem.value}\" for mem in memories)\n",
        "\n",
        "    # Retrieve custom instructions\n",
        "    namespace = (\"instructions\", user_id)\n",
        "    memories = store.search(namespace)\n",
        "    if memories:\n",
        "        instructions = memories[0].value\n",
        "    else:\n",
        "        instructions = \"\"\n",
        "\n",
        "    system_msg = MODEL_SYSTEM_MESSAGE.format(user_profile=user_profile, todo=todo, instructions=instructions)\n",
        "\n",
        "    # Respond using memory as well as the chat history\n",
        "    response = model.bind_tools([UpdateMemory], parallel_tool_calls=False).invoke([SystemMessage(content=system_msg)]+state[\"messages\"])\n",
        "\n",
        "    return {\"messages\": [response]}\n",
        "\n",
        "def update_profile(state: MessagesState, config: RunnableConfig, store: BaseStore):\n",
        "\n",
        "    \"\"\"Reflect on the chat history and update the memory collection.\"\"\"\n",
        "\n",
        "    # Get the user ID from the config\n",
        "    user_id = config[\"configurable\"][\"user_id\"]\n",
        "\n",
        "    # Define the namespace for the memories\n",
        "    namespace = (\"profile\", user_id)\n",
        "\n",
        "    # Retrieve the most recent memories for context\n",
        "    existing_items = store.search(namespace)\n",
        "\n",
        "    # Format the existing memories for the Trustcall extractor\n",
        "    tool_name = \"Profile\"\n",
        "    existing_memories = ([(existing_item.key, tool_name, existing_item.value)\n",
        "                          for existing_item in existing_items]\n",
        "                          if existing_items\n",
        "                          else None\n",
        "                        )\n",
        "\n",
        "    # Merge the chat history and the instruction\n",
        "    TRUSTCALL_INSTRUCTION_FORMATTED=TRUSTCALL_INSTRUCTION.format(time=datetime.now().isoformat())\n",
        "    updated_messages=list(merge_message_runs(messages=[SystemMessage(content=TRUSTCALL_INSTRUCTION_FORMATTED)] + state[\"messages\"][:-1]))\n",
        "\n",
        "    # Invoke the extractor\n",
        "    result = profile_extractor.invoke({\"messages\": updated_messages,\n",
        "                                         \"existing\": existing_memories})\n",
        "\n",
        "    # Save the memories from Trustcall to the store\n",
        "    for r, rmeta in zip(result[\"responses\"], result[\"response_metadata\"]):\n",
        "        store.put(namespace,\n",
        "                  rmeta.get(\"json_doc_id\", str(uuid.uuid4())),\n",
        "                  r.model_dump(mode=\"json\"),\n",
        "            )\n",
        "    tool_calls = state['messages'][-1].tool_calls\n",
        "    return {\"messages\": [{\"role\": \"tool\", \"content\": \"updated profile\", \"tool_call_id\":tool_calls[0]['id']}]}\n",
        "\n",
        "def update_todos(state: MessagesState, config: RunnableConfig, store: BaseStore):\n",
        "\n",
        "    \"\"\"Reflect on the chat history and update the memory collection.\"\"\"\n",
        "\n",
        "    # Get the user ID from the config\n",
        "    user_id = config[\"configurable\"][\"user_id\"]\n",
        "\n",
        "    # Define the namespace for the memories\n",
        "    namespace = (\"todo\", user_id)\n",
        "\n",
        "    # Retrieve the most recent memories for context\n",
        "    existing_items = store.search(namespace)\n",
        "\n",
        "    # Format the existing memories for the Trustcall extractor\n",
        "    tool_name = \"ToDo\"\n",
        "    existing_memories = ([(existing_item.key, tool_name, existing_item.value)\n",
        "                          for existing_item in existing_items]\n",
        "                          if existing_items\n",
        "                          else None\n",
        "                        )\n",
        "\n",
        "    # Merge the chat history and the instruction\n",
        "    TRUSTCALL_INSTRUCTION_FORMATTED=TRUSTCALL_INSTRUCTION.format(time=datetime.now().isoformat())\n",
        "    updated_messages=list(merge_message_runs(messages=[SystemMessage(content=TRUSTCALL_INSTRUCTION_FORMATTED)] + state[\"messages\"][:-1]))\n",
        "\n",
        "    # Initialize the spy for visibility into the tool calls made by Trustcall\n",
        "    spy = Spy()\n",
        "\n",
        "    # Create the Trustcall extractor for updating the ToDo list\n",
        "    todo_extractor = create_extractor(\n",
        "    model,\n",
        "    tools=[ToDo],\n",
        "    tool_choice=tool_name,\n",
        "    enable_inserts=True\n",
        "    ).with_listeners(on_end=spy)\n",
        "\n",
        "    # Invoke the extractor\n",
        "    result = todo_extractor.invoke({\"messages\": updated_messages,\n",
        "                                    \"existing\": existing_memories})\n",
        "\n",
        "    # Save the memories from Trustcall to the store\n",
        "    for r, rmeta in zip(result[\"responses\"], result[\"response_metadata\"]):\n",
        "        store.put(namespace,\n",
        "                  rmeta.get(\"json_doc_id\", str(uuid.uuid4())),\n",
        "                  r.model_dump(mode=\"json\"),\n",
        "            )\n",
        "\n",
        "    # Respond to the tool call made in task_mAIstro, confirming the update\n",
        "    tool_calls = state['messages'][-1].tool_calls\n",
        "\n",
        "    # Extract the changes made by Trustcall and add the the ToolMessage returned to task_mAIstro\n",
        "    todo_update_msg = extract_tool_info(spy.called_tools, tool_name)\n",
        "    return {\"messages\": [{\"role\": \"tool\", \"content\": todo_update_msg, \"tool_call_id\":tool_calls[0]['id']}]}\n",
        "\n",
        "def update_instructions(state: MessagesState, config: RunnableConfig, store: BaseStore):\n",
        "\n",
        "    \"\"\"Reflect on the chat history and update the memory collection.\"\"\"\n",
        "\n",
        "    # Get the user ID from the config\n",
        "    user_id = config[\"configurable\"][\"user_id\"]\n",
        "\n",
        "    namespace = (\"instructions\", user_id)\n",
        "\n",
        "    existing_memory = store.get(namespace, \"user_instructions\")\n",
        "\n",
        "    # Format the memory in the system prompt\n",
        "    system_msg = CREATE_INSTRUCTIONS.format(current_instructions=existing_memory.value if existing_memory else None)\n",
        "    new_memory = model.invoke([SystemMessage(content=system_msg)]+state['messages'][:-1] + [HumanMessage(content=\"Please update the instructions based on the conversation\")])\n",
        "\n",
        "    # Overwrite the existing memory in the store\n",
        "    key = \"user_instructions\"\n",
        "    store.put(namespace, key, {\"memory\": new_memory.content})\n",
        "    tool_calls = state['messages'][-1].tool_calls\n",
        "    return {\"messages\": [{\"role\": \"tool\", \"content\": \"updated instructions\", \"tool_call_id\":tool_calls[0]['id']}]}\n",
        "\n",
        "# Conditional edge\n",
        "def route_message(state: MessagesState, config: RunnableConfig, store: BaseStore) -> Literal[END, \"update_todos\", \"update_instructions\", \"update_profile\"]:\n",
        "\n",
        "    \"\"\"Reflect on the memories and chat history to decide whether to update the memory collection.\"\"\"\n",
        "    message = state['messages'][-1]\n",
        "    if len(message.tool_calls) ==0:\n",
        "        return END\n",
        "    else:\n",
        "        tool_call = message.tool_calls[0]\n",
        "        if tool_call['args']['update_type'] == \"user\":\n",
        "            return \"update_profile\"\n",
        "        elif tool_call['args']['update_type'] == \"todo\":\n",
        "            return \"update_todos\"\n",
        "        elif tool_call['args']['update_type'] == \"instructions\":\n",
        "            return \"update_instructions\"\n",
        "        else:\n",
        "            raise ValueError\n",
        "\n",
        "# Create the graph + all nodes\n",
        "builder = StateGraph(MessagesState)\n",
        "\n",
        "\n",
        "builder.add_node(ToDo_Agents)\n",
        "builder.add_node(update_todos)\n",
        "builder.add_node(update_profile)\n",
        "builder.add_node(update_instructions)\n",
        "builder.add_edge(START, \"ToDo_Agents\")\n",
        "builder.add_conditional_edges(\"ToDo_Agents\", route_message)\n",
        "builder.add_edge(\"update_todos\", \"ToDo_Agents\")\n",
        "builder.add_edge(\"update_profile\", \"ToDo_Agents\")\n",
        "builder.add_edge(\"update_instructions\", \"ToDo_Agents\")\n",
        "\n",
        "# Store for long-term (across-thread) memory\n",
        "across_thread_memory = InMemoryStore()\n",
        "\n",
        "\n",
        "within_thread_memory = MemorySaver()\n",
        "\n",
        "\n",
        "graph = builder.compile(checkpointer=within_thread_memory, store=across_thread_memory)\n",
        "\n",
        "# View\n",
        "display(Image(graph.get_graph(xray=1).draw_mermaid_png()))"
      ]
    },
    {
      "cell_type": "code",
      "execution_count": 20,
      "metadata": {
        "colab": {
          "base_uri": "https://localhost:8080/"
        },
        "id": "7crNNYalGsc9",
        "outputId": "7c14da40-5e5d-40b9-9be6-7cb6927ca05c"
      },
      "outputs": [
        {
          "output_type": "stream",
          "name": "stdout",
          "text": [
            "================================\u001b[1m Human Message \u001b[0m=================================\n",
            "\n",
            "My name is Tharun. I live in SF with my wife. I have a 1 year old daughter.\n",
            "==================================\u001b[1m Ai Message \u001b[0m==================================\n",
            "Tool Calls:\n",
            "  UpdateMemory (call_JmU4Dg2Kk5nrPfIPJBP5XeSk)\n",
            " Call ID: call_JmU4Dg2Kk5nrPfIPJBP5XeSk\n",
            "  Args:\n",
            "    update_type: user\n",
            "=================================\u001b[1m Tool Message \u001b[0m=================================\n",
            "\n",
            "updated profile\n",
            "==================================\u001b[1m Ai Message \u001b[0m==================================\n",
            "\n",
            "Got it! If there's anything else you'd like to share or need help with, just let me know.\n"
          ]
        }
      ],
      "source": [
        "\n",
        "config = {\"configurable\": {\"thread_id\": \"1\", \"user_id\": \"Lance\"}}\n",
        "\n",
        "# User input to create a profile memory\n",
        "input_messages = [HumanMessage(content=\"My name is Tharun. I live in SF with my wife. I have a 1 year old daughter.\")]\n",
        "\n",
        "# Run the graph\n",
        "for chunk in graph.stream({\"messages\": input_messages}, config, stream_mode=\"values\"):\n",
        "    chunk[\"messages\"][-1].pretty_print()"
      ]
    },
    {
      "cell_type": "code",
      "execution_count": 21,
      "metadata": {
        "colab": {
          "base_uri": "https://localhost:8080/"
        },
        "id": "FPy62OklGsc9",
        "outputId": "505092a7-5ac9-4c23-f153-8ebb009c5aeb"
      },
      "outputs": [
        {
          "output_type": "stream",
          "name": "stdout",
          "text": [
            "================================\u001b[1m Human Message \u001b[0m=================================\n",
            "\n",
            "My wife asked me to book swim lessons for the baby.\n",
            "==================================\u001b[1m Ai Message \u001b[0m==================================\n",
            "Tool Calls:\n",
            "  UpdateMemory (call_iRBGxpP5vtyxCIvXqjF2vm0Z)\n",
            " Call ID: call_iRBGxpP5vtyxCIvXqjF2vm0Z\n",
            "  Args:\n",
            "    update_type: todo\n",
            "=================================\u001b[1m Tool Message \u001b[0m=================================\n",
            "\n",
            "New ToDo created:\n",
            "Content: {'task': 'Book swim lessons for the baby.', 'time_to_complete': 30, 'solutions': ['Check local swim schools in SF', 'Look for baby swim classes online', 'Ask friends for recommendations'], 'status': 'not started'}\n",
            "==================================\u001b[1m Ai Message \u001b[0m==================================\n",
            "\n",
            "I've added \"Book swim lessons for the baby\" to your ToDo list. If you need any help with this task, feel free to ask!\n"
          ]
        }
      ],
      "source": [
        "# User input for a ToDo\n",
        "input_messages = [HumanMessage(content=\"My wife asked me to book swim lessons for the baby.\")]\n",
        "\n",
        "# Run the graph\n",
        "for chunk in graph.stream({\"messages\": input_messages}, config, stream_mode=\"values\"):\n",
        "    chunk[\"messages\"][-1].pretty_print()"
      ]
    },
    {
      "cell_type": "code",
      "execution_count": 22,
      "metadata": {
        "colab": {
          "base_uri": "https://localhost:8080/"
        },
        "id": "Ca2nY7zkGsc9",
        "outputId": "41ba05dd-916d-4dd3-876b-7fce88c0e0f8"
      },
      "outputs": [
        {
          "output_type": "stream",
          "name": "stdout",
          "text": [
            "================================\u001b[1m Human Message \u001b[0m=================================\n",
            "\n",
            "When creating or updating ToDo items, include specific local businesses / vendors.\n",
            "==================================\u001b[1m Ai Message \u001b[0m==================================\n",
            "Tool Calls:\n",
            "  UpdateMemory (call_BdIU2qvyELE1lCI9SNu9RwAA)\n",
            " Call ID: call_BdIU2qvyELE1lCI9SNu9RwAA\n",
            "  Args:\n",
            "    update_type: instructions\n",
            "=================================\u001b[1m Tool Message \u001b[0m=================================\n",
            "\n",
            "updated instructions\n",
            "==================================\u001b[1m Ai Message \u001b[0m==================================\n",
            "\n",
            "Got it! I'll make sure to include specific local businesses or vendors when creating or updating your ToDo items. If there's anything else you need, just let me know!\n"
          ]
        }
      ],
      "source": [
        "\n",
        "input_messages = [HumanMessage(content=\"When creating or updating ToDo items, include specific local businesses / vendors.\")]\n",
        "\n",
        "# Run the graph\n",
        "for chunk in graph.stream({\"messages\": input_messages}, config, stream_mode=\"values\"):\n",
        "    chunk[\"messages\"][-1].pretty_print()"
      ]
    },
    {
      "cell_type": "code",
      "execution_count": 23,
      "metadata": {
        "id": "TPV4Qz49Gsc9"
      },
      "outputs": [],
      "source": [
        "# Check for updated instructions\n",
        "user_id = \"Tharun\"\n",
        "\n",
        "\n",
        "for memory in across_thread_memory.search((\"instructions\", user_id)):\n",
        "    print(memory.value)"
      ]
    },
    {
      "cell_type": "code",
      "execution_count": 24,
      "metadata": {
        "colab": {
          "base_uri": "https://localhost:8080/"
        },
        "id": "ReIneSJ2Gsc9",
        "outputId": "08210125-0c41-41fc-d36b-71a7d262e155"
      },
      "outputs": [
        {
          "output_type": "stream",
          "name": "stdout",
          "text": [
            "================================\u001b[1m Human Message \u001b[0m=================================\n",
            "\n",
            "I need to fix the jammed electric Yale lock on the door.\n",
            "==================================\u001b[1m Ai Message \u001b[0m==================================\n",
            "Tool Calls:\n",
            "  UpdateMemory (call_i3uCTy7WoFr6iVJUyJoXZ7xw)\n",
            " Call ID: call_i3uCTy7WoFr6iVJUyJoXZ7xw\n",
            "  Args:\n",
            "    update_type: todo\n",
            "=================================\u001b[1m Tool Message \u001b[0m=================================\n",
            "\n",
            "New ToDo created:\n",
            "Content: {'task': 'Fix the jammed electric Yale lock on the door.', 'time_to_complete': 60, 'solutions': ['Contact a local locksmith in SF', \"Check Yale's customer support for troubleshooting\", 'Look for online tutorials specific to Yale locks'], 'status': 'not started'}\n",
            "\n",
            "Document 1957aea1-d8ec-4024-8a67-6617abc8493a updated:\n",
            "Plan: Add specific local businesses or vendors to the solutions for booking swim lessons.\n",
            "Added content: ['Check local swim schools in SF like La Petite Baleen or Pomeroy Recreation & Rehabilitation Pool', 'Look for baby swim classes online', 'Ask friends for recommendations']\n",
            "==================================\u001b[1m Ai Message \u001b[0m==================================\n",
            "\n",
            "I've added \"Fix the jammed electric Yale lock on the door\" to your ToDo list. If you need any assistance with this task, feel free to reach out!\n"
          ]
        }
      ],
      "source": [
        "# User input for a ToDo\n",
        "input_messages = [HumanMessage(content=\"I need to fix the jammed electric Yale lock on the door.\")]\n",
        "\n",
        "# Run the graph\n",
        "for chunk in graph.stream({\"messages\": input_messages}, config, stream_mode=\"values\"):\n",
        "    chunk[\"messages\"][-1].pretty_print()"
      ]
    },
    {
      "cell_type": "code",
      "execution_count": 25,
      "metadata": {
        "id": "WA6RC0RXGsc9"
      },
      "outputs": [],
      "source": [
        "# Namespace for the memory to save\n",
        "user_id = \"Tharun\"\n",
        "\n",
        "# Search\n",
        "for memory in across_thread_memory.search((\"todo\", user_id)):\n",
        "    print(memory.value)"
      ]
    },
    {
      "cell_type": "code",
      "execution_count": 26,
      "metadata": {
        "colab": {
          "base_uri": "https://localhost:8080/"
        },
        "id": "ddw0MxmcGsc9",
        "outputId": "a93d04df-da68-455d-9085-77f5f2dcb4bf"
      },
      "outputs": [
        {
          "output_type": "stream",
          "name": "stdout",
          "text": [
            "================================\u001b[1m Human Message \u001b[0m=================================\n",
            "\n",
            "For the swim lessons, I need to get that done by end of November.\n",
            "==================================\u001b[1m Ai Message \u001b[0m==================================\n",
            "Tool Calls:\n",
            "  UpdateMemory (call_Qt0Bg9tiVP93rysEAocF8gAo)\n",
            " Call ID: call_Qt0Bg9tiVP93rysEAocF8gAo\n",
            "  Args:\n",
            "    update_type: todo\n",
            "=================================\u001b[1m Tool Message \u001b[0m=================================\n",
            "\n",
            "Document 1957aea1-d8ec-4024-8a67-6617abc8493a updated:\n",
            "Plan: Add a deadline for the task to be completed by the end of November.\n",
            "Added content: 2025-11-30T23:59:59\n",
            "==================================\u001b[1m Ai Message \u001b[0m==================================\n",
            "\n",
            "I've updated the deadline for booking swim lessons for the baby to the end of November. If there's anything else you need, just let me know!\n"
          ]
        }
      ],
      "source": [
        "# User input to update an existing ToDo\n",
        "input_messages = [HumanMessage(content=\"For the swim lessons, I need to get that done by end of November.\")]\n",
        "\n",
        "# Run the graph\n",
        "for chunk in graph.stream({\"messages\": input_messages}, config, stream_mode=\"values\"):\n",
        "    chunk[\"messages\"][-1].pretty_print()"
      ]
    },
    {
      "cell_type": "code",
      "execution_count": 27,
      "metadata": {
        "colab": {
          "base_uri": "https://localhost:8080/"
        },
        "id": "wCMN2kbgGsc9",
        "outputId": "1459ed63-3faf-49ee-b4cb-9fc2b1cb629f"
      },
      "outputs": [
        {
          "output_type": "stream",
          "name": "stdout",
          "text": [
            "================================\u001b[1m Human Message \u001b[0m=================================\n",
            "\n",
            "Need to call back City Toyota to schedule car service.\n",
            "==================================\u001b[1m Ai Message \u001b[0m==================================\n",
            "Tool Calls:\n",
            "  UpdateMemory (call_4evtVnNlSbJxH30cyRns68gr)\n",
            " Call ID: call_4evtVnNlSbJxH30cyRns68gr\n",
            "  Args:\n",
            "    update_type: todo\n",
            "=================================\u001b[1m Tool Message \u001b[0m=================================\n",
            "\n",
            "New ToDo created:\n",
            "Content: {'task': 'Call back City Toyota to schedule car service.', 'time_to_complete': 15, 'solutions': ['Find the contact number for City Toyota', 'Check available service slots', 'Prepare car details for the service'], 'status': 'not started'}\n",
            "\n",
            "Document 34262682-1c90-4454-bec0-ec740632444c updated:\n",
            "Plan: Add specific local businesses or vendors to the solutions for fixing the jammed electric Yale lock.\n",
            "Added content: ['Contact a local locksmith in SF like \"Lock World\" or \"The Flying Locksmiths\"', \"Check Yale's customer support for troubleshooting\", 'Look for online tutorials specific to Yale locks']\n",
            "==================================\u001b[1m Ai Message \u001b[0m==================================\n",
            "\n",
            "I've added \"Call back City Toyota to schedule car service\" to your ToDo list. If you need any help with this task, just let me know!\n"
          ]
        }
      ],
      "source": [
        "# User input for a ToDo\n",
        "input_messages = [HumanMessage(content=\"Need to call back City Toyota to schedule car service.\")]\n",
        "\n",
        "# Run the graph\n",
        "for chunk in graph.stream({\"messages\": input_messages}, config, stream_mode=\"values\"):\n",
        "    chunk[\"messages\"][-1].pretty_print()"
      ]
    },
    {
      "cell_type": "code",
      "execution_count": 28,
      "metadata": {
        "id": "otcZIzX-Gsc9"
      },
      "outputs": [],
      "source": [
        "# Namespace for the memory to save\n",
        "user_id = \"Tharun\"\n",
        "\n",
        "# Search\n",
        "for memory in across_thread_memory.search((\"todo\", user_id)):\n",
        "    print(memory.value)"
      ]
    },
    {
      "cell_type": "code",
      "execution_count": 29,
      "metadata": {
        "colab": {
          "base_uri": "https://localhost:8080/"
        },
        "id": "5CwTry88Gsc-",
        "outputId": "9fa29719-6bab-4375-faee-8297da5c6b9a"
      },
      "outputs": [
        {
          "output_type": "stream",
          "name": "stdout",
          "text": [
            "================================\u001b[1m Human Message \u001b[0m=================================\n",
            "\n",
            "I have 30 minutes, what tasks can I get done?\n",
            "==================================\u001b[1m Ai Message \u001b[0m==================================\n",
            "\n",
            "It looks like your ToDo list is currently empty, so I don't have any tasks to suggest. If you have any tasks in mind, feel free to share them with me, and I can help you keep track of them!\n"
          ]
        }
      ],
      "source": [
        "\n",
        "config = {\"configurable\": {\"thread_id\": \"2\", \"user_id\": \"Tharun\"}}\n",
        "\n",
        "# Chat with the chatbot\n",
        "input_messages = [HumanMessage(content=\"I have 30 minutes, what tasks can I get done?\")]\n",
        "\n",
        "# Run the graph\n",
        "for chunk in graph.stream({\"messages\": input_messages}, config, stream_mode=\"values\"):\n",
        "    chunk[\"messages\"][-1].pretty_print()"
      ]
    },
    {
      "cell_type": "code",
      "execution_count": 30,
      "metadata": {
        "colab": {
          "base_uri": "https://localhost:8080/"
        },
        "id": "TdqpOeXWGsc-",
        "outputId": "a72726fd-378c-4eb3-a5cc-3f7857a43552"
      },
      "outputs": [
        {
          "output_type": "stream",
          "name": "stdout",
          "text": [
            "================================\u001b[1m Human Message \u001b[0m=================================\n",
            "\n",
            "Yes, give me some options to call for swim lessons.\n",
            "==================================\u001b[1m Ai Message \u001b[0m==================================\n",
            "Tool Calls:\n",
            "  UpdateMemory (call_aqcUPuc1yrNBNGPuAptennbX)\n",
            " Call ID: call_aqcUPuc1yrNBNGPuAptennbX\n",
            "  Args:\n",
            "    update_type: todo\n",
            "=================================\u001b[1m Tool Message \u001b[0m=================================\n",
            "\n",
            "New ToDo created:\n",
            "Content: {'task': 'Find options to call for swim lessons', 'time_to_complete': 30, 'solutions': ['Local community center', 'YMCA', 'Private swim schools', 'Local gyms with pools', 'Online platforms like Swimply'], 'status': 'not started'}\n",
            "==================================\u001b[1m Ai Message \u001b[0m==================================\n",
            "\n",
            "I've added a task to your ToDo list to find options for swim lessons. Here are some places you can consider calling:\n",
            "\n",
            "1. Local community center\n",
            "2. YMCA\n",
            "3. Private swim schools\n",
            "4. Local gyms with pools\n",
            "5. Online platforms like Swimply\n",
            "\n",
            "This task is estimated to take about 30 minutes. Let me know if there's anything else you'd like to add or modify!\n"
          ]
        }
      ],
      "source": [
        "# Chat with the chatbot\n",
        "input_messages = [HumanMessage(content=\"Yes, give me some options to call for swim lessons.\")]\n",
        "\n",
        "# Run the graph\n",
        "for chunk in graph.stream({\"messages\": input_messages}, config, stream_mode=\"values\"):\n",
        "    chunk[\"messages\"][-1].pretty_print()"
      ]
    },
    {
      "cell_type": "code",
      "source": [],
      "metadata": {
        "id": "SvxYE1WlJ6D0"
      },
      "execution_count": 30,
      "outputs": []
    }
  ],
  "metadata": {
    "kernelspec": {
      "display_name": "Python 3 (ipykernel)",
      "language": "python",
      "name": "python3"
    },
    "language_info": {
      "codemirror_mode": {
        "name": "ipython",
        "version": 3
      },
      "file_extension": ".py",
      "mimetype": "text/x-python",
      "name": "python",
      "nbconvert_exporter": "python",
      "pygments_lexer": "ipython3",
      "version": "3.11.8"
    },
    "colab": {
      "provenance": []
    }
  },
  "nbformat": 4,
  "nbformat_minor": 0
}
